{
 "cells": [
  {
   "cell_type": "markdown",
   "metadata": {},
   "source": [
    "### Setting Values of  Weights , Learning rate and Threshold"
   ]
  },
  {
   "cell_type": "code",
   "execution_count": 14,
   "metadata": {},
   "outputs": [],
   "source": [
    "w1= 0.6\n",
    "w2= 1.1\n",
    "w3=0.6\n",
    "w4=1.1\n",
    "w5=-2\n",
    "w6=1.1\n",
    "Learning_rate = 0.2"
   ]
  },
  {
   "cell_type": "markdown",
   "metadata": {},
   "source": [
    "### Setting the Expected Value of XOR"
   ]
  },
  {
   "cell_type": "code",
   "execution_count": 2,
   "metadata": {},
   "outputs": [],
   "source": [
    "exp = [0,1,1,0]"
   ]
  },
  {
   "cell_type": "markdown",
   "metadata": {},
   "source": [
    "### Defining Sigmoid Function"
   ]
  },
  {
   "cell_type": "code",
   "execution_count": 3,
   "metadata": {},
   "outputs": [],
   "source": [
    "import math as m\n",
    "def sigmoid(num):\n",
    "    num = (1/(1+m.exp(-num)))\n",
    "    return num"
   ]
  },
  {
   "cell_type": "markdown",
   "metadata": {},
   "source": [
    "### Defining Error Calculate Function"
   ]
  },
  {
   "cell_type": "code",
   "execution_count": 4,
   "metadata": {},
   "outputs": [],
   "source": [
    "def errorcal(act,val):\n",
    "    error = val*((1-val)*(act-val))\n",
    "    return error"
   ]
  },
  {
   "cell_type": "markdown",
   "metadata": {},
   "source": [
    "### Defining Weights Update Function"
   ]
  },
  {
   "cell_type": "code",
   "execution_count": 5,
   "metadata": {},
   "outputs": [],
   "source": [
    "def weightupdate(wi,xi,error):\n",
    "    newweight = wi+(error*xi)\n",
    "    return newweight"
   ]
  },
  {
   "cell_type": "markdown",
   "metadata": {},
   "source": [
    "### Running Epoches"
   ]
  },
  {
   "cell_type": "code",
   "execution_count": 15,
   "metadata": {},
   "outputs": [
    {
     "name": "stdout",
     "output_type": "stream",
     "text": [
      "\n",
      "*****EPOCH # 1*****\n",
      " \n",
      "for x1 = 0 , for x2 = 0\n",
      "w1 = 0.6 ,  w2 = 1.1\n",
      "value of first neuron = 0.5\n",
      "Value of second neuron = 0.5\n",
      "0.389360766050778\n",
      "-0.09257401076643353\n",
      " \n",
      "for x1 = 0 , for x2 = 1\n",
      "w1 = 0.6 ,  w2 = 1.1\n",
      "value of first neuron = 0.7502601055951177\n",
      "Value of second neuron = 0.6456563062257954\n",
      "0.3121046277204773\n",
      "-0.0670074057545715\n",
      " \n",
      "for x1 = 1 , for x2 = 0\n",
      "w1 = 0.6 ,  w2 = 1.1\n",
      "value of first neuron = 0.6456563062257954\n",
      "Value of second neuron = 0.7502601055951177\n",
      "0.3855571487918675\n",
      "-0.09133958114347676\n",
      " \n",
      "for x1 = 1 , for x2 = 1\n",
      "w1 = 0.6 ,  w2 = 1.1\n",
      "value of first neuron = 0.8455347349164652\n",
      "Value of second neuron = 0.8455347349164652\n",
      "0.3184332616576245\n",
      "-0.06911069151224286\n"
     ]
    }
   ],
   "source": [
    "for epoch in range (1):\n",
    "    print(\"\")\n",
    "    print(\"*****EPOCH # {}*****\".format(epoch+1))\n",
    "    ite = 0\n",
    "    for x1 in range(2):\n",
    "        for x2 in range(2):\n",
    "            print(\" \")\n",
    "            print(\"for x1 = {} , for x2 = {}\".format(x1,x2))\n",
    "            print(\"w1 = {} ,  w2 = {}\".format(w1,w2))\n",
    "            z1 = (w1*x1)+(x2*w2)\n",
    "            z1 = sigmoid(z1)\n",
    "            print(\"value of first neuron = {}\".format(z1))\n",
    "            z2 = (w3*x2)+(x1*w4)\n",
    "            z2 = sigmoid(z2)\n",
    "            print(\"Value of second neuron = {}\".format(z2))\n",
    "            f = (z1*w5)+(z2*w6)\n",
    "            f = sigmoid(f)\n",
    "            print(f)\n",
    "            error = errorcal(0,f)\n",
    "            print(error)\n",
    "            ite= ite+1\n",
    "    "
   ]
  },
  {
   "cell_type": "code",
   "execution_count": 13,
   "metadata": {},
   "outputs": [
    {
     "name": "stdout",
     "output_type": "stream",
     "text": [
      "value of first neuron = 0.6802671966986485\n",
      "Value of second neuron = 0.6637386974043528\n",
      "Output is 0.6902834929076443\n",
      "error is -0.04068112511233903\n",
      "Updated First Weight for output is 0.27232596506128215\n",
      "Updated Second Weight for output is 0.8729983630089926\n"
     ]
    }
   ],
   "source": [
    "            a=0.35\n",
    "            b=0.9\n",
    "            w1=0.1\n",
    "            w2=0.4\n",
    "            w3=0.8\n",
    "            w4=0.6\n",
    "            w5=0.3\n",
    "            w6=0.9\n",
    "            z1 = (w1*a)+(b*w3)\n",
    "            z1 = sigmoid(z1)\n",
    "            print(\"value of first neuron = {}\".format(z1))\n",
    "            z2 = (b*w4)+(a*w2)\n",
    "            z2 = sigmoid(z2)\n",
    "            print(\"Value of second neuron = {}\".format(z2))\n",
    "            f = (z1*w5)+(z2*w6)\n",
    "            f = sigmoid(f)\n",
    "            print(\"Output is {}\".format(f))\n",
    "            error = errorcal(0.5,f)\n",
    "            print(\"error is {}\".format(error))\n",
    "            w5 = weightupdate(w5,z1,error)\n",
    "            print(\"Updated First Weight for output is {}\".format(w5))\n",
    "            w6 = weightupdate(w6,z2,error)\n",
    "            print(\"Updated Second Weight for output is {}\".format(w6))\n",
    "            "
   ]
  },
  {
   "cell_type": "code",
   "execution_count": null,
   "metadata": {},
   "outputs": [],
   "source": []
  }
 ],
 "metadata": {
  "kernelspec": {
   "display_name": "Python 3",
   "language": "python",
   "name": "python3"
  },
  "language_info": {
   "codemirror_mode": {
    "name": "ipython",
    "version": 3
   },
   "file_extension": ".py",
   "mimetype": "text/x-python",
   "name": "python",
   "nbconvert_exporter": "python",
   "pygments_lexer": "ipython3",
   "version": "3.6.5"
  }
 },
 "nbformat": 4,
 "nbformat_minor": 2
}
